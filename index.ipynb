{
  "cells": [
    {
      "cell_type": "raw",
      "metadata": {},
      "source": [
        "---\n",
        "title: PHYS 409\n",
        "format:\n",
        "  html:\n",
        "    link-external-newwindow: true\n",
        "editor: visual\n",
        "---"
      ],
      "id": "7db9b07d"
    },
    {
      "cell_type": "markdown",
      "metadata": {},
      "source": [
        "# PHYS 409 Quantum Theory\n",
        "\n",
        "![xkcd: Elementary Physics Paths](https://imgs.xkcd.com/comics/elementary_physics_paths.png)\n",
        "\n",
        "From [xkcd.com](https://www.xkcd.com/2933/)\n",
        "\n",
        "## Course Description\n",
        "\n",
        "A formal treatment of quantum theory using Dirac notation, including an introduction to approximation methods and their applications. The general theory of angular momentum and time-independent perturbation theory are developed and used to derive the fine and hyperfine structures of hydrogen. Additional topics may include quantum statistics, quantum dynamics, and time-dependent perturbation theory. \n",
        "\n",
        "## Prerequisites\n",
        "\n",
        "PHYS 308"
      ],
      "id": "43569844"
    }
  ],
  "metadata": {
    "kernelspec": {
      "name": "python3",
      "language": "python",
      "display_name": "Python 3 (ipykernel)"
    }
  },
  "nbformat": 4,
  "nbformat_minor": 5
}